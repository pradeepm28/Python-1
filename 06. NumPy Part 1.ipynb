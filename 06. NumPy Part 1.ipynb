{
 "cells": [
  {
   "cell_type": "markdown",
   "metadata": {},
   "source": [
    "# NumPy"
   ]
  },
  {
   "cell_type": "code",
   "execution_count": 1,
   "metadata": {},
   "outputs": [
    {
     "name": "stdout",
     "output_type": "stream",
     "text": [
      "[1 2 3 4 5]\n"
     ]
    }
   ],
   "source": [
    "# NumPy - Numerical Python \n",
    "# - Python library for working with arrays\n",
    "# - Also has functions for working in linear algebra, fourier tranform and matrics\n",
    "# In Python, List are slow in processing. but Numpy array is faster than lists\n",
    "# array object in numpy is called ndarray\n",
    "import numpy as np\n",
    "array_1 = np.array([1,2,3,4,5])\n",
    "print(array_1)"
   ]
  },
  {
   "cell_type": "code",
   "execution_count": 2,
   "metadata": {},
   "outputs": [
    {
     "name": "stdout",
     "output_type": "stream",
     "text": [
      "1.19.2\n"
     ]
    }
   ],
   "source": [
    "print(np.__version__)"
   ]
  },
  {
   "cell_type": "code",
   "execution_count": 3,
   "metadata": {},
   "outputs": [
    {
     "name": "stdout",
     "output_type": "stream",
     "text": [
      "<class 'numpy.ndarray'>\n",
      "1\n"
     ]
    }
   ],
   "source": [
    "print(type(array_1)) # Type of array\n",
    "print(array_1[0])"
   ]
  },
  {
   "cell_type": "code",
   "execution_count": 4,
   "metadata": {},
   "outputs": [
    {
     "name": "stdout",
     "output_type": "stream",
     "text": [
      "1\n"
     ]
    }
   ],
   "source": [
    "print(array_1.ndim) # Dimensions of array"
   ]
  },
  {
   "cell_type": "code",
   "execution_count": 5,
   "metadata": {},
   "outputs": [
    {
     "name": "stdout",
     "output_type": "stream",
     "text": [
      "[[[[[1 2 3 4 5]]]]]\n",
      "5\n"
     ]
    }
   ],
   "source": [
    "array_2 = np.array([1,2,3,4,5],ndmin=5) # ndmin -> Number of dimensions\n",
    "print(array_2)\n",
    "print(array_2.ndim)"
   ]
  },
  {
   "cell_type": "code",
   "execution_count": 6,
   "metadata": {},
   "outputs": [
    {
     "name": "stdout",
     "output_type": "stream",
     "text": [
      "2\n",
      "6\n"
     ]
    }
   ],
   "source": [
    "array_3 = np.array([[1,2,3,4,5],[6,7,8,9,10]])\n",
    "print(array_3.ndim)\n",
    "print(array_3[1,0])"
   ]
  },
  {
   "cell_type": "code",
   "execution_count": 7,
   "metadata": {},
   "outputs": [
    {
     "name": "stdout",
     "output_type": "stream",
     "text": [
      "3\n",
      "[[[ 1  2  3  4]]\n",
      "\n",
      " [[ 4  5  6  7]]\n",
      "\n",
      " [[ 8  9 10 11]]]\n"
     ]
    }
   ],
   "source": [
    "array_4 = np.array([\n",
    "    [[1,2,3,4]],\n",
    "    [[4,5,6,7]],\n",
    "    [[8,9,10,11]]\n",
    "])\n",
    "print(array_4.ndim)\n",
    "print(array_4)"
   ]
  },
  {
   "cell_type": "code",
   "execution_count": 8,
   "metadata": {},
   "outputs": [
    {
     "name": "stdout",
     "output_type": "stream",
     "text": [
      "[2 3 4 5 6]\n",
      "[8 9]\n",
      "[2 4]\n",
      "[1 3 5 7 9]\n"
     ]
    }
   ],
   "source": [
    "array_5 = np.array([1,2,3,4,5,6,7,8,9,10])\n",
    "print(array_5[1:6])\n",
    "print(array_5[-3:-1])\n",
    "print(array_5[1:5:2]) # [start:end:step]\n",
    "print(array_5[::2])"
   ]
  },
  {
   "cell_type": "code",
   "execution_count": 9,
   "metadata": {},
   "outputs": [
    {
     "name": "stdout",
     "output_type": "stream",
     "text": [
      "[[2 3 4]\n",
      " [7 8 9]]\n"
     ]
    }
   ],
   "source": [
    "array_6 = np.array([[1,2,3,4,5],[6,7,8,9,10]])\n",
    "print(array_6[0:2,1:4])"
   ]
  },
  {
   "cell_type": "code",
   "execution_count": 10,
   "metadata": {},
   "outputs": [
    {
     "name": "stdout",
     "output_type": "stream",
     "text": [
      "int32\n"
     ]
    }
   ],
   "source": [
    "# Data Type in Numpy\n",
    "'''\n",
    "i - integer\n",
    "b - boolean\n",
    "u - unsigned integer\n",
    "f - float\n",
    "c - complex float\n",
    "m - timedelta\n",
    "M - datetime\n",
    "O - object\n",
    "S - string\n",
    "U - unicode string\n",
    "V - fixed chunk of memory for other type ( void )\n",
    "'''\n",
    "print(array_6.dtype)"
   ]
  },
  {
   "cell_type": "code",
   "execution_count": 11,
   "metadata": {},
   "outputs": [
    {
     "name": "stdout",
     "output_type": "stream",
     "text": [
      "[b'1' b'2' b'3' b'4' b'5']\n",
      "|S1\n"
     ]
    }
   ],
   "source": [
    "array_7 = np.array([1,2,3,4,5],dtype='S')\n",
    "print(array_7)\n",
    "print(array_7.dtype)"
   ]
  },
  {
   "cell_type": "code",
   "execution_count": 12,
   "metadata": {},
   "outputs": [
    {
     "name": "stdout",
     "output_type": "stream",
     "text": [
      "[1 2 3 4 5]\n",
      "int32\n"
     ]
    }
   ],
   "source": [
    "# Convert Data Type\n",
    "array_8 = array_7.astype('i')\n",
    "print(array_8)\n",
    "print(array_8.dtype)"
   ]
  },
  {
   "cell_type": "code",
   "execution_count": 13,
   "metadata": {},
   "outputs": [
    {
     "name": "stdout",
     "output_type": "stream",
     "text": [
      "[1 2 3 4 5]\n",
      "[ 1  2 10  4  5]\n",
      "[ 1  2 12  4  5]\n",
      "[ 1  2 12  4  5]\n"
     ]
    }
   ],
   "source": [
    "# Numpy Copy and View\n",
    "array_9 = array_8.copy() # Copy creates new memory\n",
    "array_8[2] = 10\n",
    "print(array_9)\n",
    "print(array_8)\n",
    "array_10 = array_8.view() # View points same memory location\n",
    "array_8[2] = 12\n",
    "print(array_10)\n",
    "print(array_8)"
   ]
  },
  {
   "cell_type": "code",
   "execution_count": 14,
   "metadata": {},
   "outputs": [
    {
     "name": "stdout",
     "output_type": "stream",
     "text": [
      "None\n",
      "[ 1  2 12  4  5]\n"
     ]
    }
   ],
   "source": [
    "print(array_9.base)  # Return None if array owns the data\n",
    "print(array_10.base) # Return original array"
   ]
  },
  {
   "cell_type": "code",
   "execution_count": 15,
   "metadata": {},
   "outputs": [
    {
     "name": "stdout",
     "output_type": "stream",
     "text": [
      "(5,)\n",
      "(2, 5)\n"
     ]
    }
   ],
   "source": [
    "print(array_8.shape) # Shape for array () \n",
    "print(array_6.shape) # Shape - 2 dimensions and 5 elements in each dimensions"
   ]
  },
  {
   "cell_type": "code",
   "execution_count": 16,
   "metadata": {},
   "outputs": [
    {
     "name": "stdout",
     "output_type": "stream",
     "text": [
      "[[ 1  2  3]\n",
      " [ 4  5  6]\n",
      " [ 7  8  9]\n",
      " [10 11 12]]\n",
      "[[[ 1  2]\n",
      "  [ 3  4]\n",
      "  [ 5  6]]\n",
      "\n",
      " [[ 7  8]\n",
      "  [ 9 10]\n",
      "  [11 12]]]\n",
      "[ 1  2  3  4  5  6  7  8  9 10 11 12]\n"
     ]
    }
   ],
   "source": [
    "array_11 = np.array([1,2,3,4,5,6,7,8,9,10,11,12])\n",
    "array_12 = array_11.reshape(4,3)  # 1 dimensions to 2 dimesnions - 4 arrays with 3 elememnts each\n",
    "print(array_12)\n",
    "array_13 = array_11.reshape(2,3,2) # 1 dimenstion to 3 dimenstions - 2 array contains 3 arrays with 2 elements each\n",
    "print(array_13)\n",
    "array_14 = array_12.reshape(-1)    # 2 dimensions to 1 dimesnion \n",
    "print(array_14)"
   ]
  },
  {
   "cell_type": "code",
   "execution_count": 17,
   "metadata": {},
   "outputs": [
    {
     "name": "stdout",
     "output_type": "stream",
     "text": [
      "[1 2 3]\n",
      "[4 5 6]\n",
      "[7 8 9]\n",
      "[10 11 12]\n"
     ]
    }
   ],
   "source": [
    "# Array Iteration \n",
    "for i in array_12:\n",
    "    print(i)"
   ]
  },
  {
   "cell_type": "code",
   "execution_count": 18,
   "metadata": {},
   "outputs": [
    {
     "name": "stdout",
     "output_type": "stream",
     "text": [
      "1\n",
      "2\n",
      "3\n",
      "4\n",
      "5\n",
      "6\n",
      "7\n",
      "8\n",
      "9\n",
      "10\n",
      "11\n",
      "12\n"
     ]
    }
   ],
   "source": [
    "for i in array_12:\n",
    "    for j in i:\n",
    "        print(j)"
   ]
  },
  {
   "cell_type": "code",
   "execution_count": 19,
   "metadata": {},
   "outputs": [
    {
     "name": "stdout",
     "output_type": "stream",
     "text": [
      "1\n",
      "2\n",
      "3\n",
      "4\n",
      "5\n",
      "6\n",
      "7\n",
      "8\n",
      "9\n",
      "10\n",
      "11\n",
      "12\n"
     ]
    }
   ],
   "source": [
    "# nditer() is a helping function that can be used from very basic to very advanced iterations.\n",
    "for i in np.nditer(array_13):\n",
    "    print(i)"
   ]
  },
  {
   "cell_type": "code",
   "execution_count": 20,
   "metadata": {},
   "outputs": [
    {
     "name": "stdout",
     "output_type": "stream",
     "text": [
      "(0,) 1\n",
      "(1,) 2\n",
      "(2,) 3\n",
      "(3,) 4\n",
      "(4,) 5\n",
      "(5,) 6\n",
      "(6,) 7\n",
      "(7,) 8\n",
      "(8,) 9\n",
      "(9,) 10\n",
      "(10,) 11\n",
      "(11,) 12\n"
     ]
    }
   ],
   "source": [
    "for index, value in np.ndenumerate(array_11):\n",
    "    print(index, value)"
   ]
  },
  {
   "cell_type": "code",
   "execution_count": 21,
   "metadata": {},
   "outputs": [
    {
     "name": "stdout",
     "output_type": "stream",
     "text": [
      "[1 2 3 4 5 6 7 8]\n",
      "----------------------------------------------------\n",
      "[[1 2 5 6]\n",
      " [3 4 7 8]]\n",
      "----------------------------------------------------\n",
      "[[1 5]\n",
      " [2 6]\n",
      " [3 7]\n",
      " [4 8]]\n",
      "----------------------------------------------------\n",
      "[[[1 2]\n",
      "  [5 6]]\n",
      "\n",
      " [[3 4]\n",
      "  [7 8]]]\n",
      "----------------------------------------------------\n",
      "[[1 2 5 6]\n",
      " [3 4 7 8]]\n",
      "----------------------------------------------------\n",
      "[[1 2]\n",
      " [3 4]\n",
      " [5 6]\n",
      " [7 8]]\n",
      "----------------------------------------------------\n",
      "[[[1 5]\n",
      "  [2 6]]\n",
      "\n",
      " [[3 7]\n",
      "  [4 8]]]\n",
      "----------------------------------------------------\n"
     ]
    }
   ],
   "source": [
    "#Array Join\n",
    "array_15 = np.array([1,2,3,4])\n",
    "array_16 = np.array([5,6,7,8])\n",
    "array_17 = np.concatenate((array_15, array_16))\n",
    "print(array_17)\n",
    "print('----------------------------------------------------')\n",
    "array_15 = np.array([[1,2],[3,4]])\n",
    "array_16 = np.array([[5,6],[7,8]])\n",
    "array_17 = np.concatenate((array_15, array_16),axis=1)\n",
    "print(array_17)\n",
    "print('----------------------------------------------------')\n",
    "array_15 = np.array([1,2,3,4])\n",
    "array_16 = np.array([5,6,7,8])\n",
    "array_17 = np.stack((array_15, array_16),axis=1)\n",
    "print(array_17)\n",
    "print('----------------------------------------------------')\n",
    "array_15 = np.array([[1,2],[3,4]])\n",
    "array_16 = np.array([[5,6],[7,8]])\n",
    "array_17 = np.stack((array_15, array_16),axis=1)\n",
    "print(array_17)\n",
    "print('----------------------------------------------------')\n",
    "array_15 = np.array([[1,2],[3,4]])\n",
    "array_16 = np.array([[5,6],[7,8]])\n",
    "array_17 = np.hstack((array_15, array_16))            # Stakcing along rows\n",
    "print(array_17)\n",
    "print('----------------------------------------------------')\n",
    "array_15 = np.array([[1,2],[3,4]])\n",
    "array_16 = np.array([[5,6],[7,8]])\n",
    "array_17 = np.vstack((array_15, array_16))            # Stacking along columns\n",
    "print(array_17)\n",
    "print('----------------------------------------------------')\n",
    "array_15 = np.array([[1,2],[3,4]])\n",
    "array_16 = np.array([[5,6],[7,8]])\n",
    "array_17 = np.dstack((array_15, array_16))            # Stacking along height(depth)\n",
    "print(array_17)\n",
    "print('----------------------------------------------------')"
   ]
  },
  {
   "cell_type": "code",
   "execution_count": 22,
   "metadata": {},
   "outputs": [
    {
     "name": "stdout",
     "output_type": "stream",
     "text": [
      "[array([1, 2]), array([3, 4]), array([5, 6])]\n"
     ]
    }
   ],
   "source": [
    "# Splitting Array\n",
    "array_18 = np.array([1,2,3,4,5,6])\n",
    "array_19 = np.array_split(array_18,3,axis=0)\n",
    "print(array_19)"
   ]
  },
  {
   "cell_type": "code",
   "execution_count": 23,
   "metadata": {},
   "outputs": [
    {
     "name": "stdout",
     "output_type": "stream",
     "text": [
      "[array([[ 1],\n",
      "       [ 4],\n",
      "       [ 7],\n",
      "       [10]]), array([[ 2],\n",
      "       [ 5],\n",
      "       [ 8],\n",
      "       [11]]), array([[ 3],\n",
      "       [ 6],\n",
      "       [ 9],\n",
      "       [12]])]\n"
     ]
    }
   ],
   "source": [
    "array_19 = np.hsplit(array_12,3)\n",
    "print(array_19)"
   ]
  },
  {
   "cell_type": "code",
   "execution_count": 24,
   "metadata": {},
   "outputs": [
    {
     "name": "stdout",
     "output_type": "stream",
     "text": [
      "(array([3], dtype=int64),)\n"
     ]
    }
   ],
   "source": [
    "# Array Search\n",
    "x = np.where(array_18 == 4)  # Index of matching element\n",
    "print(x)"
   ]
  },
  {
   "cell_type": "code",
   "execution_count": 25,
   "metadata": {},
   "outputs": [
    {
     "name": "stdout",
     "output_type": "stream",
     "text": [
      "(array([1, 3, 5], dtype=int64),)\n"
     ]
    }
   ],
   "source": [
    "x = np.where(array_18%2 == 0)\n",
    "print(x)"
   ]
  },
  {
   "cell_type": "code",
   "execution_count": 26,
   "metadata": {},
   "outputs": [
    {
     "name": "stdout",
     "output_type": "stream",
     "text": [
      "3\n",
      "4\n",
      "[6 6 6]\n"
     ]
    }
   ],
   "source": [
    "x = np.searchsorted(array_18,4) # Index of matching element\n",
    "print(x) \n",
    "x = np.searchsorted(array_18,4,side=\"right\") # Right most Index \n",
    "print(x) \n",
    "x = np.searchsorted(array_18,[11,12,13]) # Index where value should be inserted\n",
    "print(x)"
   ]
  },
  {
   "cell_type": "code",
   "execution_count": 27,
   "metadata": {},
   "outputs": [
    {
     "name": "stdout",
     "output_type": "stream",
     "text": [
      "[0 1 2 3 4 5]\n"
     ]
    }
   ],
   "source": [
    "# Array Sort\n",
    "array_20 = np.array([1,0,4,2,5,3])\n",
    "print(np.sort(array_20))"
   ]
  },
  {
   "cell_type": "code",
   "execution_count": 28,
   "metadata": {},
   "outputs": [
    {
     "name": "stdout",
     "output_type": "stream",
     "text": [
      "[1 3]\n"
     ]
    }
   ],
   "source": [
    "# Array Filter\n",
    "array_21 = np.array([1,2,3,4])\n",
    "\n",
    "x = [True, False, True, False]\n",
    "print(array_21[x])"
   ]
  },
  {
   "cell_type": "code",
   "execution_count": 29,
   "metadata": {},
   "outputs": [
    {
     "name": "stdout",
     "output_type": "stream",
     "text": [
      "[3 4]\n"
     ]
    }
   ],
   "source": [
    "filter_array_21 = array_21 > 2\n",
    "print(array_21[filter_array_21])"
   ]
  }
 ],
 "metadata": {
  "kernelspec": {
   "display_name": "Python 3",
   "language": "python",
   "name": "python3"
  },
  "language_info": {
   "codemirror_mode": {
    "name": "ipython",
    "version": 3
   },
   "file_extension": ".py",
   "mimetype": "text/x-python",
   "name": "python",
   "nbconvert_exporter": "python",
   "pygments_lexer": "ipython3",
   "version": "3.8.5"
  }
 },
 "nbformat": 4,
 "nbformat_minor": 4
}
