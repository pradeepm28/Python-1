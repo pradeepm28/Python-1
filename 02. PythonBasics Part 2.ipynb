{
 "cells": [
  {
   "cell_type": "markdown",
   "metadata": {},
   "source": [
    "# Python Basics - Part 2"
   ]
  },
  {
   "cell_type": "code",
   "execution_count": 1,
   "metadata": {},
   "outputs": [
    {
     "data": {
      "text/plain": [
       "(15, 5, 50, 2.0, 2, 0, 100000)"
      ]
     },
     "execution_count": 1,
     "metadata": {},
     "output_type": "execute_result"
    }
   ],
   "source": [
    "# Arithmetic Operators\n",
    "x = 10\n",
    "y = 5\n",
    "x + y, x - y, x * y, x / y, x // y, x % y, x ** y"
   ]
  },
  {
   "cell_type": "code",
   "execution_count": 2,
   "metadata": {},
   "outputs": [
    {
     "name": "stdout",
     "output_type": "stream",
     "text": [
      "15\n",
      "10\n",
      "50\n",
      "10.0\n",
      "2\n",
      "11\n",
      "9\n",
      "1\n",
      "80\n"
     ]
    }
   ],
   "source": [
    "# Assignment Operators\n",
    "X = 10\n",
    "x += 5\n",
    "print(x)\n",
    "x -= 5\n",
    "print(x)\n",
    "x *= 5\n",
    "print(x)\n",
    "x /= 5\n",
    "print(x)\n",
    "x = 10\n",
    "x &= 3\n",
    "print(x)\n",
    "x = 10\n",
    "x |= 3\n",
    "print(x)\n",
    "x = 10\n",
    "x ^= 3\n",
    "print(x)\n",
    "x = 10\n",
    "x >>= 3\n",
    "print(x)\n",
    "x = 10\n",
    "x <<= 3\n",
    "print(x)"
   ]
  },
  {
   "cell_type": "code",
   "execution_count": 3,
   "metadata": {},
   "outputs": [
    {
     "data": {
      "text/plain": [
       "(False, True, True, False, True, False)"
      ]
     },
     "execution_count": 3,
     "metadata": {},
     "output_type": "execute_result"
    }
   ],
   "source": [
    "# Comparison Operator\n",
    "10 == 5, 10 != 5, 10 > 5, 10 < 5, 10 >= 5, 10 <= 5"
   ]
  },
  {
   "cell_type": "code",
   "execution_count": 4,
   "metadata": {},
   "outputs": [
    {
     "data": {
      "text/plain": [
       "(False, True, True)"
      ]
     },
     "execution_count": 4,
     "metadata": {},
     "output_type": "execute_result"
    }
   ],
   "source": [
    "# Logical Operator\n",
    "10 > 5 and 10 < 5, 10 > 5 or 10 < 5, not(10 > 5 and 10 < 5)"
   ]
  },
  {
   "cell_type": "code",
   "execution_count": 5,
   "metadata": {},
   "outputs": [
    {
     "data": {
      "text/plain": [
       "(True, True)"
      ]
     },
     "execution_count": 5,
     "metadata": {},
     "output_type": "execute_result"
    }
   ],
   "source": [
    "# Identity Operator\n",
    "x = 10\n",
    "y = 10\n",
    "z = 5\n",
    "x is y, x is not z"
   ]
  },
  {
   "cell_type": "code",
   "execution_count": 6,
   "metadata": {},
   "outputs": [
    {
     "data": {
      "text/plain": [
       "(True, True)"
      ]
     },
     "execution_count": 6,
     "metadata": {},
     "output_type": "execute_result"
    }
   ],
   "source": [
    "# Membership Operators\n",
    "x = [1,2,3,4]\n",
    "4 in x, 5 not in x"
   ]
  },
  {
   "cell_type": "code",
   "execution_count": 7,
   "metadata": {},
   "outputs": [
    {
     "data": {
      "text/plain": [
       "(1, 1, 1, -2)"
      ]
     },
     "execution_count": 7,
     "metadata": {},
     "output_type": "execute_result"
    }
   ],
   "source": [
    "# Bitwise Operators\n",
    "1 & 1, 1 | 0, 1 ^ 0, ~1"
   ]
  },
  {
   "cell_type": "markdown",
   "metadata": {},
   "source": [
    "## Python List"
   ]
  },
  {
   "cell_type": "code",
   "execution_count": 8,
   "metadata": {},
   "outputs": [
    {
     "name": "stdout",
     "output_type": "stream",
     "text": [
      "3\n"
     ]
    }
   ],
   "source": [
    "myList = [1,2,3,4,5]\n",
    "print(myList[2])"
   ]
  },
  {
   "cell_type": "code",
   "execution_count": 9,
   "metadata": {},
   "outputs": [
    {
     "name": "stdout",
     "output_type": "stream",
     "text": [
      "5\n"
     ]
    }
   ],
   "source": [
    "print(len(myList))"
   ]
  },
  {
   "cell_type": "code",
   "execution_count": 10,
   "metadata": {},
   "outputs": [
    {
     "data": {
      "text/plain": [
       "(5, [3], [1, 2, 3])"
      ]
     },
     "execution_count": 10,
     "metadata": {},
     "output_type": "execute_result"
    }
   ],
   "source": [
    "myList[-1], myList[2:3], myList[-5:-2]"
   ]
  },
  {
   "cell_type": "code",
   "execution_count": 11,
   "metadata": {},
   "outputs": [
    {
     "name": "stdout",
     "output_type": "stream",
     "text": [
      "True\n"
     ]
    }
   ],
   "source": [
    "print( 2 in myList )"
   ]
  },
  {
   "cell_type": "code",
   "execution_count": 12,
   "metadata": {},
   "outputs": [
    {
     "name": "stdout",
     "output_type": "stream",
     "text": [
      "[1, 6, 7, 4, 5]\n",
      "[1, 6, 10, 7, 4, 5]\n",
      "[1, 6, 10, 7, 4, 5, 9]\n",
      "[1, 6, 10, 7, 4, 5, 9, 11, 12, 13]\n",
      "[1, 6, 10, 7, 4, 5, 9, 11, 12, 13, 14, 15, 16]\n",
      "[1, 6, 10, 7, 4, 5, 9, 11, 12, 13, 14, 15]\n",
      "[1, 10, 7, 4, 5, 9, 11, 12, 13, 14, 15]\n",
      "[1, 10, 7, 4, 5, 9, 11, 12, 13, 14]\n",
      "[10, 7, 4, 5, 9, 11, 12, 13, 14]\n",
      "[]\n"
     ]
    }
   ],
   "source": [
    "myList = [1,2,3,4,5]\n",
    "myList[1:3] = [6,7]\n",
    "print(myList)\n",
    "myList.insert(2,10)\n",
    "print(myList)\n",
    "myList.append(9)\n",
    "print(myList)\n",
    "myList.extend([11,12,13])\n",
    "print(myList)\n",
    "myList.extend((14,15,16))\n",
    "print(myList)\n",
    "myList.remove(16) # List Item to be specified\n",
    "print(myList)\n",
    "myList.pop(1) # List index to be specified\n",
    "print(myList)\n",
    "myList.pop() # Remove Last Item\n",
    "print(myList)\n",
    "del myList[0] # List index\n",
    "print(myList)\n",
    "#del myList     # Delete Entire List\n",
    "#print(myList)\n",
    "myList.clear()\n",
    "print(myList)"
   ]
  },
  {
   "cell_type": "code",
   "execution_count": 13,
   "metadata": {},
   "outputs": [
    {
     "name": "stdout",
     "output_type": "stream",
     "text": [
      "1\n",
      "2\n",
      "3\n",
      "4\n",
      "5\n",
      "1\n",
      "2\n",
      "3\n",
      "4\n",
      "5\n",
      "1\n",
      "2\n",
      "3\n",
      "4\n",
      "5\n"
     ]
    }
   ],
   "source": [
    "myList = [1,2,3,4,5]\n",
    "for i in myList:\n",
    "    print(i)\n",
    "for i in range(len(myList)):\n",
    "    print(myList[i])\n",
    "i = 0\n",
    "while i < len(myList):\n",
    "    print(myList[i])\n",
    "    i = i + 1"
   ]
  },
  {
   "cell_type": "code",
   "execution_count": 14,
   "metadata": {},
   "outputs": [
    {
     "name": "stdout",
     "output_type": "stream",
     "text": [
      "[4, 5]\n",
      "[1, 2, 1, 1, 1]\n"
     ]
    }
   ],
   "source": [
    "# List Comprehension\n",
    "myList = [1,2,3,4,5]\n",
    "print([i for i in myList if i > 3]) \n",
    "# [expression for item in iterable if condition == True]\n",
    "print([i if i < 3 else 1 for i in myList])\n",
    "# Expression -> i if i < 3 else 1\n",
    "#  if i < 3 return as it is \n",
    "#  if i >= 3 return only 1"
   ]
  },
  {
   "cell_type": "code",
   "execution_count": 15,
   "metadata": {},
   "outputs": [
    {
     "name": "stdout",
     "output_type": "stream",
     "text": [
      "[10, 9, 8, 7, 6, 5, 4, 3, 2]\n",
      "[2, 3, 4, 5, 6, 7, 8, 9, 10]\n",
      "[10, 9, 8, 7, 6, 5, 4, 3, 2]\n"
     ]
    }
   ],
   "source": [
    "# List Sorting\n",
    "myList = list(range(10,1,-1))\n",
    "print(myList)\n",
    "myList.sort()\n",
    "print(myList)\n",
    "myList.sort(reverse = True)\n",
    "print(myList)"
   ]
  },
  {
   "cell_type": "code",
   "execution_count": 16,
   "metadata": {},
   "outputs": [
    {
     "name": "stdout",
     "output_type": "stream",
     "text": [
      "[50, 65, 23, 82, 100]\n"
     ]
    }
   ],
   "source": [
    "# Customize Sort - Sort the list based on how close the number is to 50\n",
    "def myfunc(n):\n",
    "    return abs(n-50)\n",
    "thislist = [100,50,65,82,23]\n",
    "thislist.sort(key = myfunc)\n",
    "print(thislist)"
   ]
  },
  {
   "cell_type": "code",
   "execution_count": 17,
   "metadata": {},
   "outputs": [
    {
     "name": "stdout",
     "output_type": "stream",
     "text": [
      "[100, 82, 23, 65, 50]\n"
     ]
    }
   ],
   "source": [
    "# Reverse the Order\n",
    "thislist.reverse()\n",
    "print(thislist)"
   ]
  },
  {
   "cell_type": "code",
   "execution_count": 18,
   "metadata": {},
   "outputs": [
    {
     "name": "stdout",
     "output_type": "stream",
     "text": [
      "[100, 82, 23, 65, 50]\n",
      "[100, 82, 23, 65, 50]\n"
     ]
    }
   ],
   "source": [
    "# Copy the list \n",
    "newlist = thislist.copy()\n",
    "onemore = list(thislist)\n",
    "print(newlist)\n",
    "print(onemore)"
   ]
  },
  {
   "cell_type": "markdown",
   "metadata": {},
   "source": [
    "## Tuple"
   ]
  },
  {
   "cell_type": "code",
   "execution_count": 19,
   "metadata": {},
   "outputs": [
    {
     "name": "stdout",
     "output_type": "stream",
     "text": [
      "2\n",
      "3\n"
     ]
    }
   ],
   "source": [
    "mytuple = (1,2,3)\n",
    "print(mytuple[1])\n",
    "print(len(mytuple))"
   ]
  },
  {
   "cell_type": "code",
   "execution_count": 20,
   "metadata": {},
   "outputs": [
    {
     "name": "stdout",
     "output_type": "stream",
     "text": [
      "(1, 2, 3, 4)\n"
     ]
    }
   ],
   "source": [
    "# Update Tuple\n",
    "newtuple = (1,2,3)\n",
    "temp = list(newtuple)\n",
    "temp.append(4)\n",
    "newtuple = tuple(temp)\n",
    "print(newtuple)"
   ]
  },
  {
   "cell_type": "code",
   "execution_count": 21,
   "metadata": {},
   "outputs": [
    {
     "name": "stdout",
     "output_type": "stream",
     "text": [
      "(1, 2)\n"
     ]
    }
   ],
   "source": [
    "newtuple = (1,2,3)\n",
    "temp = list(newtuple)\n",
    "temp.remove(3)\n",
    "newtuple = tuple(temp)\n",
    "print(newtuple)"
   ]
  },
  {
   "cell_type": "code",
   "execution_count": 22,
   "metadata": {},
   "outputs": [],
   "source": [
    "#del newtuple   # delete tuple\n",
    "#print(newtuple)"
   ]
  },
  {
   "cell_type": "code",
   "execution_count": 23,
   "metadata": {},
   "outputs": [
    {
     "name": "stdout",
     "output_type": "stream",
     "text": [
      "apple\n",
      "['mango', 'papaya', 'pineapple']\n",
      "cherry\n"
     ]
    }
   ],
   "source": [
    "fruits = (\"apple\", \"mango\", \"papaya\", \"pineapple\", \"cherry\")\n",
    "\n",
    "(green, *tropic, red) = fruits\n",
    "\n",
    "print(green)\n",
    "print(tropic)\n",
    "print(red)"
   ]
  },
  {
   "cell_type": "markdown",
   "metadata": {},
   "source": [
    "## Sets"
   ]
  },
  {
   "cell_type": "code",
   "execution_count": 24,
   "metadata": {},
   "outputs": [],
   "source": [
    "myset = {1,2,3}"
   ]
  },
  {
   "cell_type": "code",
   "execution_count": 25,
   "metadata": {},
   "outputs": [
    {
     "name": "stdout",
     "output_type": "stream",
     "text": [
      "1\n",
      "2\n",
      "3\n"
     ]
    }
   ],
   "source": [
    "for i in myset: # we cant access set elements via index\n",
    "    print(i)"
   ]
  },
  {
   "cell_type": "code",
   "execution_count": 26,
   "metadata": {},
   "outputs": [
    {
     "name": "stdout",
     "output_type": "stream",
     "text": [
      "{1, 2, 3, 4}\n"
     ]
    }
   ],
   "source": [
    "myset.add(4)\n",
    "print(myset)"
   ]
  },
  {
   "cell_type": "code",
   "execution_count": 27,
   "metadata": {},
   "outputs": [
    {
     "name": "stdout",
     "output_type": "stream",
     "text": [
      "{1, 2, 3, 4, 40, 10, 20, 30}\n"
     ]
    }
   ],
   "source": [
    "anotherset = {10,20,30,40}\n",
    "myset.update(anotherset)\n",
    "print(myset)"
   ]
  },
  {
   "cell_type": "code",
   "execution_count": 28,
   "metadata": {},
   "outputs": [
    {
     "name": "stdout",
     "output_type": "stream",
     "text": [
      "{1, 2, 3, 4, 40, 10, 50, 20, 60, 30}\n"
     ]
    }
   ],
   "source": [
    "myset.update([50,60])\n",
    "print(myset)"
   ]
  },
  {
   "cell_type": "code",
   "execution_count": 29,
   "metadata": {},
   "outputs": [
    {
     "name": "stdout",
     "output_type": "stream",
     "text": [
      "{1, 2, 3, 4, 10, 50, 20, 60, 30}\n",
      "{1, 2, 3, 4, 10, 20, 60, 30}\n"
     ]
    }
   ],
   "source": [
    "# Remove element\n",
    "myset.remove(40)\n",
    "print(myset)\n",
    "myset.discard(50) # If 50 doesnt exists then it wont throw error\n",
    "print(myset)"
   ]
  },
  {
   "cell_type": "code",
   "execution_count": 30,
   "metadata": {},
   "outputs": [
    {
     "name": "stdout",
     "output_type": "stream",
     "text": [
      "{2, 3, 4, 10, 20, 60, 30}\n"
     ]
    }
   ],
   "source": [
    "myset.pop() # Removes last element \n",
    "print(myset)"
   ]
  },
  {
   "cell_type": "code",
   "execution_count": 31,
   "metadata": {},
   "outputs": [
    {
     "name": "stdout",
     "output_type": "stream",
     "text": [
      "set()\n"
     ]
    }
   ],
   "source": [
    "myset.clear()\n",
    "print(myset)"
   ]
  },
  {
   "cell_type": "code",
   "execution_count": 32,
   "metadata": {},
   "outputs": [],
   "source": [
    "#del myset"
   ]
  },
  {
   "cell_type": "code",
   "execution_count": 33,
   "metadata": {},
   "outputs": [
    {
     "name": "stdout",
     "output_type": "stream",
     "text": [
      "{1, 2, 3, 4, 5, 6}\n",
      "set()\n",
      "{1, 2, 3, 4, 5, 6}\n"
     ]
    }
   ],
   "source": [
    "set1 = {1,2,3}\n",
    "set2 = {4,5,6}\n",
    "set3 = set1.union(set2)\n",
    "print(set3)\n",
    "set3 = set1.intersection(set2)\n",
    "print(set3)\n",
    "set3 = set1.symmetric_difference(set2)\n",
    "print(set3)"
   ]
  },
  {
   "cell_type": "markdown",
   "metadata": {},
   "source": [
    "## Dictionary"
   ]
  },
  {
   "cell_type": "code",
   "execution_count": 34,
   "metadata": {},
   "outputs": [
    {
     "name": "stdout",
     "output_type": "stream",
     "text": [
      "{'key1': 1, 'key2': 2, 'key3': 3}\n",
      "1\n",
      "3\n"
     ]
    }
   ],
   "source": [
    "myDict = {\n",
    "    \"key1\": 1,\n",
    "    \"key2\": 2,\n",
    "    \"key3\": 3\n",
    "}\n",
    "print(myDict)\n",
    "print(myDict[\"key1\"])\n",
    "print(len(myDict))"
   ]
  },
  {
   "cell_type": "code",
   "execution_count": 35,
   "metadata": {},
   "outputs": [
    {
     "name": "stdout",
     "output_type": "stream",
     "text": [
      "1\n"
     ]
    }
   ],
   "source": [
    "print(myDict.get(\"key1\"))  # Same as print(myDict[\"key1\"])"
   ]
  },
  {
   "cell_type": "code",
   "execution_count": 36,
   "metadata": {},
   "outputs": [
    {
     "name": "stdout",
     "output_type": "stream",
     "text": [
      "dict_keys(['key1', 'key2', 'key3'])\n",
      "dict_values([1, 2, 3])\n",
      "dict_items([('key1', 1), ('key2', 2), ('key3', 3)])\n",
      "True\n"
     ]
    }
   ],
   "source": [
    "print(myDict.keys())\n",
    "print(myDict.values())\n",
    "print(myDict.items())\n",
    "print(\"key2\" in myDict)"
   ]
  },
  {
   "cell_type": "code",
   "execution_count": 37,
   "metadata": {},
   "outputs": [
    {
     "name": "stdout",
     "output_type": "stream",
     "text": [
      "{'key1': 5, 'key2': 2, 'key3': 3}\n"
     ]
    }
   ],
   "source": [
    "myDict[\"key1\"] = 5 # Same as myDict.update({\"key1\":5})\n",
    "print(myDict)"
   ]
  },
  {
   "cell_type": "code",
   "execution_count": 38,
   "metadata": {},
   "outputs": [
    {
     "name": "stdout",
     "output_type": "stream",
     "text": [
      "{'key1': 1, 'key2': 2, 'key3': 3, 'key4': 6}\n",
      "{'key2': 2, 'key3': 3, 'key4': 6}\n",
      "{'key2': 2, 'key3': 3}\n",
      "{'key3': 3}\n",
      "{}\n"
     ]
    }
   ],
   "source": [
    "myDict = {\n",
    "    \"key1\": 1,\n",
    "    \"key2\": 2,\n",
    "    \"key3\": 3\n",
    "}\n",
    "myDict[\"key4\"] = 6 # Same as myDict.update({\"key4\":6})\n",
    "print(myDict)\n",
    "myDict.pop(\"key1\")\n",
    "print(myDict)\n",
    "myDict.popitem() # removes last item of dictionary\n",
    "print(myDict)\n",
    "del myDict[\"key2\"]\n",
    "print(myDict)\n",
    "myDict.clear()\n",
    "print(myDict)"
   ]
  },
  {
   "cell_type": "code",
   "execution_count": 39,
   "metadata": {},
   "outputs": [
    {
     "name": "stdout",
     "output_type": "stream",
     "text": [
      "key1\n",
      "key2\n",
      "key3\n",
      "1\n",
      "2\n",
      "3\n",
      "key1 1\n",
      "key2 2\n",
      "key3 3\n"
     ]
    }
   ],
   "source": [
    "myDict = {\n",
    "    \"key1\": 1,\n",
    "    \"key2\": 2,\n",
    "    \"key3\": 3\n",
    "}\n",
    "for i in myDict:            # Keys of dictionary\n",
    "    print(i)\n",
    "for i in myDict:            # Values of dictionary\n",
    "    print(myDict[i])\n",
    "for i, j in myDict.items(): # Items of Dictionary\n",
    "    print(i, j)"
   ]
  },
  {
   "cell_type": "code",
   "execution_count": 40,
   "metadata": {},
   "outputs": [
    {
     "name": "stdout",
     "output_type": "stream",
     "text": [
      "{'key1': 1, 'key2': 2, 'key3': 3}\n",
      "{'key1': 1, 'key2': 2, 'key3': 3}\n"
     ]
    }
   ],
   "source": [
    "newDict = myDict.copy()\n",
    "print(newDict)\n",
    "onemoreDict = dict(myDict)\n",
    "print(onemoreDict)"
   ]
  }
 ],
 "metadata": {
  "kernelspec": {
   "display_name": "Python 3",
   "language": "python",
   "name": "python3"
  },
  "language_info": {
   "codemirror_mode": {
    "name": "ipython",
    "version": 3
   },
   "file_extension": ".py",
   "mimetype": "text/x-python",
   "name": "python",
   "nbconvert_exporter": "python",
   "pygments_lexer": "ipython3",
   "version": "3.8.5"
  }
 },
 "nbformat": 4,
 "nbformat_minor": 4
}
