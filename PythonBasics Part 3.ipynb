{
 "cells": [
  {
   "cell_type": "markdown",
   "metadata": {},
   "source": [
    "# Python Basics - Part 3"
   ]
  },
  {
   "cell_type": "code",
   "execution_count": 1,
   "metadata": {},
   "outputs": [],
   "source": [
    "# if..elif..else\n",
    "a = 5\n",
    "if a > 5:\n",
    "    print(\"Yeah i am greater than 5\")\n",
    "elif a < 5:\n",
    "    print(\"Ohh i am smaller than 5\")\n",
    "else:\n",
    "    print(\"Arrey i am 5\")"
   ]
  },
  {
   "cell_type": "code",
   "execution_count": 2,
   "metadata": {},
   "outputs": [],
   "source": [
    "# Short hand if\n",
    "if 1 < 2: print(\"1 is smaller than 2\")\n",
    "# Short hand if..else\n",
    "print(\"1 is greater than 2..\") if 1 > 2 else print(\"1 is smaller than 2..\") #Ternary Operators\n",
    "# One more example\n",
    "print(\"Greater\") if 1 > 1 else print(\"Equal\") if 1 == 1 else print(\"Smaller\")"
   ]
  },
  {
   "cell_type": "code",
   "execution_count": 3,
   "metadata": {},
   "outputs": [],
   "source": [
    "# and \n",
    "if 1 < 2 and 2 > 3:\n",
    "    pass              # Nothing to be done\n",
    "else:\n",
    "    print(\"False\")\n",
    "# or\n",
    "if 1 < 2 or 2 > 3:\n",
    "    print(\"True\")\n",
    "else:\n",
    "    print(\"False\")"
   ]
  },
  {
   "cell_type": "code",
   "execution_count": 4,
   "metadata": {},
   "outputs": [
    {
     "name": "stdout",
     "output_type": "stream",
     "text": [
      "1\n"
     ]
    }
   ],
   "source": [
    "# While \n",
    "i = 0\n",
    "while(i < 5):\n",
    "    i += 1\n",
    "    if (i == 2):\n",
    "        continue       # Continue to next \n",
    "    if (i == 3):\n",
    "        break          # Break the loop\n",
    "    print(i)   "
   ]
  },
  {
   "cell_type": "code",
   "execution_count": 5,
   "metadata": {},
   "outputs": [
    {
     "name": "stdout",
     "output_type": "stream",
     "text": [
      "0\n",
      "1\n",
      "2\n",
      "3\n",
      "4\n"
     ]
    }
   ],
   "source": [
    "# for\n",
    "for i in range(5):\n",
    "    print(i)"
   ]
  },
  {
   "cell_type": "code",
   "execution_count": 6,
   "metadata": {},
   "outputs": [
    {
     "name": "stdout",
     "output_type": "stream",
     "text": [
      "Welcome to python - Sagar . Have a big smile\n"
     ]
    }
   ],
   "source": [
    "# Function\n",
    "def fun1(name):\n",
    "    print(\"Welcome to python - \" + name + \" . Have a big smile\")\n",
    "fun1(\"Sagar\")"
   ]
  },
  {
   "cell_type": "code",
   "execution_count": 7,
   "metadata": {},
   "outputs": [
    {
     "name": "stdout",
     "output_type": "stream",
     "text": [
      "3\n"
     ]
    }
   ],
   "source": [
    "def fun2(*keys):        # Take tuple of value\n",
    "    print(keys[2])\n",
    "fun2(1,2,3)"
   ]
  },
  {
   "cell_type": "code",
   "execution_count": 8,
   "metadata": {},
   "outputs": [
    {
     "name": "stdout",
     "output_type": "stream",
     "text": [
      "1\n"
     ]
    }
   ],
   "source": [
    "def fun3(**key):        # Take dictonary\n",
    "    print(key[\"key1\"])\n",
    "fun3(key1 = 1, key2=2)"
   ]
  },
  {
   "cell_type": "code",
   "execution_count": 9,
   "metadata": {},
   "outputs": [
    {
     "name": "stdout",
     "output_type": "stream",
     "text": [
      "15\n",
      "50\n"
     ]
    }
   ],
   "source": [
    "# Python Lambda -> lambda arguments : expression\n",
    "# lambda function is a small anonymous function.\n",
    "x = lambda a: a + 10\n",
    "print(x(5))\n",
    "y = lambda a,b: a*b\n",
    "print(y(5,10))"
   ]
  },
  {
   "cell_type": "code",
   "execution_count": 10,
   "metadata": {},
   "outputs": [
    {
     "name": "stdout",
     "output_type": "stream",
     "text": [
      "10\n",
      "15\n"
     ]
    }
   ],
   "source": [
    "def myfun4(n):\n",
    "    return lambda a : a*n\n",
    "doubler = myfun4(2)\n",
    "tripler = myfun4(3)\n",
    "print(doubler(5))\n",
    "print(tripler(5))"
   ]
  },
  {
   "cell_type": "markdown",
   "metadata": {},
   "source": [
    "## Python Classes & Objects"
   ]
  },
  {
   "cell_type": "code",
   "execution_count": 11,
   "metadata": {},
   "outputs": [
    {
     "name": "stdout",
     "output_type": "stream",
     "text": [
      "This is my first Python Class. :)\n"
     ]
    }
   ],
   "source": [
    "# Python is object oriented programming language\n",
    "# In Python, Everything is object with properties and methods\n",
    "# A Class is like an object constructor or a \"blueprint\" for creating objects\n",
    "class firstClass:\n",
    "    x = \"This is my first Python Class. :)\"\n",
    "obj1 = firstClass()\n",
    "print(obj1.x)"
   ]
  },
  {
   "cell_type": "code",
   "execution_count": 12,
   "metadata": {},
   "outputs": [
    {
     "name": "stdout",
     "output_type": "stream",
     "text": [
      "Ram 25\n",
      "Sagar 33\n",
      "Hi Ram\n",
      "Hi Sagar\n"
     ]
    }
   ],
   "source": [
    "# __init__() is in every class and executed when class is being intiated\n",
    "# Use the __init__() function to assign values to object properties, or \n",
    "# other operations that are necessary to do when the object is being created.\n",
    "# __init__() function is called automatically every time the class is being used to create a new object\n",
    "# self parameter is a reference to the current instance of the class, and is used to access variables that belongs to the class.\n",
    "class employee:\n",
    "    def __init__(self, name, age):\n",
    "        self.name = name\n",
    "        self.age  = age\n",
    "    def emphi(self):\n",
    "        print(\"Hi \" + self.name)\n",
    "emp1 = employee(\"Ram\", 25)\n",
    "emp2 = employee(\"Sagar\", 33)\n",
    "print(emp1.name, emp1.age)\n",
    "print(emp2.name, emp2.age)\n",
    "emp1.emphi()\n",
    "emp2.emphi()"
   ]
  },
  {
   "cell_type": "code",
   "execution_count": 13,
   "metadata": {},
   "outputs": [
    {
     "name": "stdout",
     "output_type": "stream",
     "text": [
      "Ram 27\n"
     ]
    }
   ],
   "source": [
    "emp1.age = 27 # Modify Object Property\n",
    "print(emp1.name, emp1.age)\n",
    "del emp2.age  # Delete Object Property\n",
    "del emp2      # Delete Object"
   ]
  },
  {
   "cell_type": "code",
   "execution_count": 14,
   "metadata": {},
   "outputs": [
    {
     "name": "stdout",
     "output_type": "stream",
     "text": [
      "Ram Mohan\n"
     ]
    }
   ],
   "source": [
    "# Inheritance\n",
    "# it allows us to define a class that inherits all the methods and properties from another class\n",
    "# Parent Class (base class) is the class being inherited\n",
    "# Child class (derived class) is the class that inherits from another class \n",
    "# Parent Class\n",
    "class human:\n",
    "    def __init__(self,fname,lname):\n",
    "        self.fname = fname\n",
    "        self.lname = lname\n",
    "    def printname(self):\n",
    "        print(self.fname + ' ' + self.lname)\n",
    "\n",
    "class student(human):\n",
    "    pass\n",
    "\n",
    "std1 = student('Ram','Mohan')\n",
    "std1.printname()"
   ]
  },
  {
   "cell_type": "code",
   "execution_count": 15,
   "metadata": {},
   "outputs": [
    {
     "name": "stdout",
     "output_type": "stream",
     "text": [
      "Shri Ram\n"
     ]
    }
   ],
   "source": [
    "class stdclass(human):\n",
    "    def __init__(self,fname,lname):\n",
    "        human.__init__(self,fname,lname)\n",
    "std2 = stdclass('Shri','Ram')\n",
    "std2.printname()"
   ]
  },
  {
   "cell_type": "code",
   "execution_count": 16,
   "metadata": {},
   "outputs": [
    {
     "name": "stdout",
     "output_type": "stream",
     "text": [
      "Sagar Grade\n",
      "Maths Physics, Chemstry in SSVM\n"
     ]
    }
   ],
   "source": [
    "class stdcls2(human):\n",
    "    def __init__(self,fname,lname,school):\n",
    "        super().__init__(fname,lname)\n",
    "        self.school = school                    # Property of child class\n",
    "    def subjects(self):\n",
    "        print(\"Maths Physics, Chemstry in \" + self.school)        # Method of child class\n",
    "std3 = stdcls2('Sagar','Grade','SSVM')\n",
    "std3.printname()\n",
    "std3.subjects()\n",
    "# super() function that will make child class inherit all methods and properties from its parent"
   ]
  },
  {
   "cell_type": "code",
   "execution_count": 17,
   "metadata": {},
   "outputs": [
    {
     "name": "stdout",
     "output_type": "stream",
     "text": [
      "1\n",
      "2\n",
      "3\n",
      "4\n",
      "5\n",
      "6\n",
      "7\n",
      "8\n",
      "9\n",
      "10\n"
     ]
    }
   ],
   "source": [
    "# Iterators\n",
    "# Object that contains a countable number of values\n",
    "# Object which implements the iterator protocol, which consist of method __iter__() and __next__()\n",
    "class numbers:\n",
    "    # The __iter__() method acts similar to __init__(), you can do operations (initializing etc.), \n",
    "    # but must always return the iterator object itself.\n",
    "    def __iter__(self):\n",
    "        self.a = 1\n",
    "        return self\n",
    "    # The __next__() method also allows you to do operations, and must return the next item in the sequence.\n",
    "    def __next__(self):\n",
    "        if self.a <= 10:\n",
    "            value = self.a\n",
    "            self.a +=1\n",
    "            return value\n",
    "        else:\n",
    "            # To prevent the iteration to go on forever, we can use the StopIteration statement.\n",
    "            raise StopIteration\n",
    "\n",
    "numclass = numbers()\n",
    "itervalue = iter(numclass)\n",
    "\n",
    "for i in itervalue:\n",
    "    print(i)"
   ]
  }
 ],
 "metadata": {
  "kernelspec": {
   "display_name": "Python 3",
   "language": "python",
   "name": "python3"
  },
  "language_info": {
   "codemirror_mode": {
    "name": "ipython",
    "version": 3
   },
   "file_extension": ".py",
   "mimetype": "text/x-python",
   "name": "python",
   "nbconvert_exporter": "python",
   "pygments_lexer": "ipython3",
   "version": "3.8.5"
  }
 },
 "nbformat": 4,
 "nbformat_minor": 4
}
