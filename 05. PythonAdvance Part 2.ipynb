{
 "cells": [
  {
   "cell_type": "markdown",
   "metadata": {},
   "source": [
    "# Python Advance Part 2"
   ]
  },
  {
   "cell_type": "code",
   "execution_count": 1,
   "metadata": {},
   "outputs": [
    {
     "name": "stdout",
     "output_type": "stream",
     "text": [
      "Hi Welcome to python\n",
      "Lets learn file handing.\n",
      "First lets open the file in read mode\n",
      "and read file data. :)\n"
     ]
    }
   ],
   "source": [
    "# File Handling\n",
    "# open() - Funtion to open the file. It takes two parameters -> Filename & mode\n",
    "# mode - \"r\" - read mode, \"a\" - append mode, \"w\" - write mode, \"x\" - create mode\n",
    "# in addition of mode if we add \"t\" - text mode, \"b\" - binary mode (images) with mode specified above\n",
    "f = open(\"newfile.txt\",\"r\")\n",
    "print(f.read())"
   ]
  },
  {
   "cell_type": "code",
   "execution_count": 2,
   "metadata": {},
   "outputs": [
    {
     "name": "stdout",
     "output_type": "stream",
     "text": [
      "Hi Welcome to python\n",
      "\n",
      "Lets learn file handing.\n",
      "\n",
      "First lets open the file in read mode\n",
      "\n",
      "and read file data. :)\n"
     ]
    }
   ],
   "source": [
    "f = open(\"newfile.txt\",\"r\")\n",
    "print(f.readline())\n",
    "print(f.readline())\n",
    "print(f.readline())\n",
    "print(f.readline())"
   ]
  },
  {
   "cell_type": "code",
   "execution_count": 3,
   "metadata": {},
   "outputs": [
    {
     "name": "stdout",
     "output_type": "stream",
     "text": [
      "Hi Welcome to python\n",
      "\n",
      "Lets learn file handing.\n",
      "\n",
      "First lets open the file in read mode\n",
      "\n",
      "and read file data. :)\n"
     ]
    }
   ],
   "source": [
    "f = open(\"newfile.txt\",\"r\")\n",
    "for x in f:\n",
    "    print(x)"
   ]
  },
  {
   "cell_type": "code",
   "execution_count": 4,
   "metadata": {},
   "outputs": [],
   "source": [
    "f = open(\"newfile.txt\",\"r\")\n",
    "f.close()"
   ]
  },
  {
   "cell_type": "code",
   "execution_count": 5,
   "metadata": {},
   "outputs": [
    {
     "name": "stdout",
     "output_type": "stream",
     "text": [
      "Hi Welcome to python\n",
      "Lets learn file handing.\n",
      "First lets open the file in read mode\n",
      "and read file data. :)Lets append something in file. and see what happens\n"
     ]
    }
   ],
   "source": [
    "f = open(\"newfile.txt\",\"a\")\n",
    "f.write(\"Lets append something in file. and see what happens\")\n",
    "f.close()\n",
    "f = open(\"newfile.txt\",\"r\")\n",
    "print(f.read())\n",
    "f.close()"
   ]
  },
  {
   "cell_type": "code",
   "execution_count": 6,
   "metadata": {},
   "outputs": [
    {
     "name": "stdout",
     "output_type": "stream",
     "text": [
      "Lets us use write mode and see what happens\n"
     ]
    }
   ],
   "source": [
    "f = open(\"newfile.txt\",\"w\")\n",
    "f.write(\"Lets us use write mode and see what happens\")\n",
    "f.close()\n",
    "f = open(\"newfile.txt\",\"r\")\n",
    "print(f.read())\n",
    "f.close()"
   ]
  },
  {
   "cell_type": "code",
   "execution_count": 7,
   "metadata": {},
   "outputs": [],
   "source": [
    "# Create new files\n",
    "f = open(\"newfile1.txt\",\"x\") #Error if file already exists \n",
    "f.close()\n",
    "f = open(\"newfile2.txt\",\"w\") # No Error if file already exists\n",
    "f.close()"
   ]
  },
  {
   "cell_type": "code",
   "execution_count": 8,
   "metadata": {},
   "outputs": [],
   "source": [
    "# Delete file\n",
    "import os # OS Module\n",
    "if os.path.exists(\"newfile1.txt\"):\n",
    "    os.remove(\"newfile1.txt\")\n",
    "else:\n",
    "    print(\"File doesnt exists\")\n",
    "#os.rmdir(\"myfolder\") # Folder delete"
   ]
  }
 ],
 "metadata": {
  "kernelspec": {
   "display_name": "Python 3",
   "language": "python",
   "name": "python3"
  },
  "language_info": {
   "codemirror_mode": {
    "name": "ipython",
    "version": 3
   },
   "file_extension": ".py",
   "mimetype": "text/x-python",
   "name": "python",
   "nbconvert_exporter": "python",
   "pygments_lexer": "ipython3",
   "version": "3.8.5"
  }
 },
 "nbformat": 4,
 "nbformat_minor": 4
}
