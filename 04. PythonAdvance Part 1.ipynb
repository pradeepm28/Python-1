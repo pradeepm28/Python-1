{
 "cells": [
  {
   "cell_type": "markdown",
   "metadata": {},
   "source": [
    "# Python Advance"
   ]
  },
  {
   "cell_type": "code",
   "execution_count": 1,
   "metadata": {},
   "outputs": [
    {
     "name": "stdout",
     "output_type": "stream",
     "text": [
      "Windows\n",
      "['_WIN32_CLIENT_RELEASES', '_WIN32_SERVER_RELEASES', '__builtins__', '__cached__', '__copyright__', '__doc__', '__file__', '__loader__', '__name__', '__package__', '__spec__', '__version__', '_comparable_version', '_component_re', '_default_architecture', '_follow_symlinks', '_ironpython26_sys_version_parser', '_ironpython_sys_version_parser', '_java_getprop', '_libc_search', '_mac_ver_xml', '_node', '_norm_version', '_platform', '_platform_cache', '_pypy_sys_version_parser', '_sys_version', '_sys_version_cache', '_sys_version_parser', '_syscmd_file', '_syscmd_uname', '_syscmd_ver', '_uname_cache', '_ver_output', '_ver_stages', 'architecture', 'collections', 'java_ver', 'libc_ver', 'mac_ver', 'machine', 'node', 'os', 'platform', 'processor', 'python_branch', 'python_build', 'python_compiler', 'python_implementation', 'python_revision', 'python_version', 'python_version_tuple', 're', 'release', 'sys', 'system', 'system_alias', 'uname', 'uname_result', 'version', 'win32_edition', 'win32_is_iot', 'win32_ver']\n"
     ]
    }
   ],
   "source": [
    "# Modules\n",
    "# A file containing a set of functions which we want to include in application\n",
    "import platform       # imported platform module\n",
    "\n",
    "value = platform.system()\n",
    "print(value)\n",
    "print(dir(platform)) # List all function of module"
   ]
  },
  {
   "cell_type": "code",
   "execution_count": 2,
   "metadata": {},
   "outputs": [
    {
     "name": "stdout",
     "output_type": "stream",
     "text": [
      "2021-06-17 14:42:26.858033\n"
     ]
    }
   ],
   "source": [
    "# Dates\n",
    "import datetime\n",
    "\n",
    "date_time = datetime.datetime.now() # Current date with current time\n",
    "print(date_time)"
   ]
  },
  {
   "cell_type": "code",
   "execution_count": 3,
   "metadata": {},
   "outputs": [
    {
     "data": {
      "text/plain": [
       "(2.0, 2, 1, 3.141592653589793)"
      ]
     },
     "execution_count": 3,
     "metadata": {},
     "output_type": "execute_result"
    }
   ],
   "source": [
    "# Math\n",
    "import math\n",
    "\n",
    "math.sqrt(4), math.ceil(1.4), math.floor(1.9), math.pi"
   ]
  },
  {
   "cell_type": "code",
   "execution_count": 4,
   "metadata": {},
   "outputs": [
    {
     "name": "stdout",
     "output_type": "stream",
     "text": [
      "Match\n",
      "(0, 1)\n",
      "I am happy\n",
      "I\n",
      "['a', 'a']\n",
      "['I', 'am', 'happy']\n",
      "I-am-happy\n"
     ]
    }
   ],
   "source": [
    "# RegEx\n",
    "import re\n",
    "text = \"I am happy\"\n",
    "x = re.search(\"^I\",text)\n",
    "print(\"Match\") if x else print(\"Unmatch\")\n",
    "print(x.span())                             # (start-position, end-position)\n",
    "print(x.string)                             # string \n",
    "print(x.group())                            # part of string which match found                \n",
    "y = re.findall(\"a\",text)\n",
    "print(y)\n",
    "z = re.split(\"\\s\",text)\n",
    "print(z)\n",
    "a = re.sub(\"\\s\",\"-\",text)\n",
    "print(a)"
   ]
  },
  {
   "cell_type": "code",
   "execution_count": 5,
   "metadata": {},
   "outputs": [],
   "source": [
    "# Pip - package manager for python packages or modules \n",
    "# A package contains all the files you need for a module"
   ]
  },
  {
   "cell_type": "code",
   "execution_count": 6,
   "metadata": {},
   "outputs": [
    {
     "name": "stdout",
     "output_type": "stream",
     "text": [
      "Error\n",
      "Finally\n"
     ]
    }
   ],
   "source": [
    "# Try Except\n",
    "# The try block lets you test a block of code for errors.\n",
    "# The except block lets you handle the error.\n",
    "# The finally block lets you execute code, regardless of the result of the try- and except blocks.\n",
    "try:\n",
    "    print(abc)\n",
    "except:\n",
    "    print(\"Error\")\n",
    "finally:\n",
    "    print(\"Finally\")"
   ]
  },
  {
   "cell_type": "code",
   "execution_count": 7,
   "metadata": {},
   "outputs": [
    {
     "ename": "TypeError",
     "evalue": "Only integer is allowed",
     "output_type": "error",
     "traceback": [
      "\u001b[1;31m---------------------------------------------------------------------------\u001b[0m",
      "\u001b[1;31mTypeError\u001b[0m                                 Traceback (most recent call last)",
      "\u001b[1;32m<ipython-input-7-ca46e98cd8d0>\u001b[0m in \u001b[0;36m<module>\u001b[1;34m\u001b[0m\n\u001b[0;32m      3\u001b[0m     \u001b[0mprint\u001b[0m\u001b[1;33m(\u001b[0m\u001b[1;34m\"X is int\"\u001b[0m\u001b[1;33m)\u001b[0m\u001b[1;33m\u001b[0m\u001b[1;33m\u001b[0m\u001b[0m\n\u001b[0;32m      4\u001b[0m \u001b[1;32melse\u001b[0m\u001b[1;33m:\u001b[0m\u001b[1;33m\u001b[0m\u001b[1;33m\u001b[0m\u001b[0m\n\u001b[1;32m----> 5\u001b[1;33m     \u001b[1;32mraise\u001b[0m \u001b[0mTypeError\u001b[0m\u001b[1;33m(\u001b[0m\u001b[1;34m\"Only integer is allowed\"\u001b[0m\u001b[1;33m)\u001b[0m\u001b[1;33m\u001b[0m\u001b[1;33m\u001b[0m\u001b[0m\n\u001b[0m",
      "\u001b[1;31mTypeError\u001b[0m: Only integer is allowed"
     ]
    }
   ],
   "source": [
    "x = \"Test\"\n",
    "if type(x) is int:\n",
    "    print(\"X is int\")\n",
    "else:\n",
    "    raise TypeError(\"Only integer is allowed\")"
   ]
  },
  {
   "cell_type": "code",
   "execution_count": 8,
   "metadata": {},
   "outputs": [
    {
     "name": "stdout",
     "output_type": "stream",
     "text": [
      "Enter you name - Sagar\n",
      "Your name is Sagar\n"
     ]
    }
   ],
   "source": [
    "# User input\n",
    "name = input(\"Enter you name - \")\n",
    "print(\"Your name is \"+name)"
   ]
  },
  {
   "cell_type": "code",
   "execution_count": 9,
   "metadata": {},
   "outputs": [
    {
     "name": "stdout",
     "output_type": "stream",
     "text": [
      "My name is Sagar\n"
     ]
    }
   ],
   "source": [
    "# String format\n",
    "text = \"My name is {}\"\n",
    "print(text.format(\"Sagar\"))"
   ]
  },
  {
   "cell_type": "code",
   "execution_count": 10,
   "metadata": {},
   "outputs": [
    {
     "name": "stdout",
     "output_type": "stream",
     "text": [
      "I got 70.00 % numbers\n"
     ]
    }
   ],
   "source": [
    "text = \"I got {:.2f} % numbers\"\n",
    "print(text.format(70))"
   ]
  }
 ],
 "metadata": {
  "kernelspec": {
   "display_name": "Python 3",
   "language": "python",
   "name": "python3"
  },
  "language_info": {
   "codemirror_mode": {
    "name": "ipython",
    "version": 3
   },
   "file_extension": ".py",
   "mimetype": "text/x-python",
   "name": "python",
   "nbconvert_exporter": "python",
   "pygments_lexer": "ipython3",
   "version": "3.8.5"
  }
 },
 "nbformat": 4,
 "nbformat_minor": 4
}
