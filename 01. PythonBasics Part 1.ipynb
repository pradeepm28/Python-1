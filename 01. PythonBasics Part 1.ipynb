{
 "cells": [
  {
   "cell_type": "markdown",
   "metadata": {},
   "source": [
    "# Python Basics"
   ]
  },
  {
   "cell_type": "code",
   "execution_count": 1,
   "metadata": {},
   "outputs": [
    {
     "name": "stdout",
     "output_type": "stream",
     "text": [
      "Hellp Python!!\n"
     ]
    }
   ],
   "source": [
    "print(\"Hellp Python!!\")"
   ]
  },
  {
   "cell_type": "code",
   "execution_count": 2,
   "metadata": {},
   "outputs": [],
   "source": [
    "# This is Python Comment\n",
    "# There is no multiline comment in python"
   ]
  },
  {
   "cell_type": "code",
   "execution_count": 3,
   "metadata": {},
   "outputs": [
    {
     "name": "stdout",
     "output_type": "stream",
     "text": [
      "<class 'int'>\n",
      "<class 'str'>\n",
      "<class 'bool'>\n",
      "<class 'float'>\n"
     ]
    }
   ],
   "source": [
    "# Python Variables and Data Types\n",
    "a = 5\n",
    "b = 'test' # \"test\" and 'test' are same\n",
    "c = True\n",
    "d = 3.4\n",
    "print(type(a))\n",
    "print(type(b))\n",
    "print(type(c))\n",
    "print(type(d))"
   ]
  },
  {
   "cell_type": "code",
   "execution_count": 4,
   "metadata": {},
   "outputs": [
    {
     "name": "stdout",
     "output_type": "stream",
     "text": [
      "50\n",
      "Test\n"
     ]
    }
   ],
   "source": [
    "# Case Sensitive\n",
    "a = 50\n",
    "A = 'Test'\n",
    "print(a)\n",
    "print(A)"
   ]
  },
  {
   "cell_type": "code",
   "execution_count": 5,
   "metadata": {},
   "outputs": [
    {
     "ename": "SyntaxError",
     "evalue": "cannot assign to operator (<ipython-input-5-207960d26305>, line 3)",
     "output_type": "error",
     "traceback": [
      "\u001b[1;36m  File \u001b[1;32m\"<ipython-input-5-207960d26305>\"\u001b[1;36m, line \u001b[1;32m3\u001b[0m\n\u001b[1;33m    employee-name = \"Laxman\"\u001b[0m\n\u001b[1;37m    ^\u001b[0m\n\u001b[1;31mSyntaxError\u001b[0m\u001b[1;31m:\u001b[0m cannot assign to operator\n"
     ]
    }
   ],
   "source": [
    "# Variable Name\n",
    "employee_name = \"Ram\"\n",
    "employee-name = \"Laxman\""
   ]
  },
  {
   "cell_type": "code",
   "execution_count": null,
   "metadata": {},
   "outputs": [],
   "source": [
    "# Variable Name\n",
    "EmpName = \"Ram\"\n",
    "empname = \"Sagar\"\n",
    "Empname = \"Vijay\"\n",
    "EMPname = \"Saurabh\"\n",
    "print(EmpName)\n",
    "print(empname)\n",
    "print(Empname)\n",
    "print(EMPname)"
   ]
  },
  {
   "cell_type": "code",
   "execution_count": null,
   "metadata": {},
   "outputs": [],
   "source": [
    "x, y, z = 1, 2, 3\n",
    "print(x)\n",
    "print(y)\n",
    "print(z)"
   ]
  },
  {
   "cell_type": "code",
   "execution_count": null,
   "metadata": {},
   "outputs": [],
   "source": [
    "x = y = z = 100\n",
    "print(x)\n",
    "print(y)\n",
    "print(z)"
   ]
  },
  {
   "cell_type": "code",
   "execution_count": null,
   "metadata": {},
   "outputs": [],
   "source": [
    "numbers = [1,2,3]\n",
    "x,y,z = numbers\n",
    "print(x)\n",
    "print(y)\n",
    "print(z)"
   ]
  },
  {
   "cell_type": "code",
   "execution_count": null,
   "metadata": {},
   "outputs": [],
   "source": [
    "# Global Variable\n",
    "x = 'Global'\n",
    "\n",
    "def fun1(x):\n",
    "    print('I am ' + x)\n",
    "\n",
    "fun1(x)"
   ]
  },
  {
   "cell_type": "code",
   "execution_count": null,
   "metadata": {},
   "outputs": [],
   "source": [
    "x = 'Global'\n",
    "def fun2(x):\n",
    "    x = 'Local'\n",
    "    print('I am ' + x)\n",
    "fun2(x)\n",
    "print('I hold '+ x)"
   ]
  },
  {
   "cell_type": "code",
   "execution_count": null,
   "metadata": {},
   "outputs": [],
   "source": [
    "def fun3():\n",
    "    global x\n",
    "    x = 'New Global'\n",
    "fun3()\n",
    "print('I am ' + x)"
   ]
  },
  {
   "cell_type": "code",
   "execution_count": null,
   "metadata": {},
   "outputs": [],
   "source": [
    "x = 'Intially Global'\n",
    "def fun4():\n",
    "    global x \n",
    "    x = 'Again Global'\n",
    "fun4()\n",
    "print('I am ' + x)"
   ]
  },
  {
   "cell_type": "code",
   "execution_count": null,
   "metadata": {},
   "outputs": [],
   "source": [
    "# Python Data Type\n",
    "x = 1\n",
    "print(float(x))\n",
    "print(complex(x))"
   ]
  },
  {
   "cell_type": "code",
   "execution_count": null,
   "metadata": {},
   "outputs": [],
   "source": [
    "# Random Number\n",
    "import random\n",
    "print(random.randrange(1,10)) # a random number between 1 to 10"
   ]
  },
  {
   "cell_type": "code",
   "execution_count": null,
   "metadata": {},
   "outputs": [],
   "source": [
    "# String \n",
    "a = \"I am a single line string\"\n",
    "b = \"\"\"I am multi line string.\n",
    "i am spead across multiple lines.\n",
    "Thats why i am called multiline string\"\"\"\n",
    "c = '''Hey i am also multiline string\n",
    "i am also same as double quotes'''\n",
    "print(a)\n",
    "print('---------------------------------------')\n",
    "print(b)\n",
    "print('---------------------------------------')\n",
    "print(c)"
   ]
  },
  {
   "cell_type": "code",
   "execution_count": null,
   "metadata": {},
   "outputs": [],
   "source": [
    "a = \"ARRAY\"\n",
    "for i in a:\n",
    "    print(i)\n",
    "print(len(a))\n",
    "print(\"Y\" in a)\n",
    "print(\"Z\" not in a)"
   ]
  },
  {
   "cell_type": "code",
   "execution_count": null,
   "metadata": {},
   "outputs": [],
   "source": [
    "b = \"PYTHON\"\n",
    "print(b[0:2] + 'CHARM')"
   ]
  },
  {
   "cell_type": "code",
   "execution_count": null,
   "metadata": {},
   "outputs": [],
   "source": [
    "b[:],b[1:],b[:4],b[-3:-2]"
   ]
  },
  {
   "cell_type": "code",
   "execution_count": 6,
   "metadata": {},
   "outputs": [
    {
     "data": {
      "text/plain": [
       "('HEY I AM STRING. :) ',\n",
       " 'hey i am string. :) ',\n",
       " 'Hey I Am String. :) ',\n",
       " 'hey I am String. :)',\n",
       " 'hey I am String. :-) ',\n",
       " ['hey', 'I', 'am', 'String.', ':)'])"
      ]
     },
     "execution_count": 6,
     "metadata": {},
     "output_type": "execute_result"
    }
   ],
   "source": [
    "c = \"hey I am String. :) \"\n",
    "c.upper(), c.lower(), c.title(), c.strip(), c.replace(':)',':-)'), c.split()"
   ]
  },
  {
   "cell_type": "code",
   "execution_count": 7,
   "metadata": {},
   "outputs": [
    {
     "name": "stdout",
     "output_type": "stream",
     "text": [
      "I am string but i display number 5\n"
     ]
    }
   ],
   "source": [
    "number = 5\n",
    "text = \"I am string but i display number {}\"\n",
    "print(text.format(number))"
   ]
  },
  {
   "cell_type": "code",
   "execution_count": 8,
   "metadata": {},
   "outputs": [
    {
     "name": "stdout",
     "output_type": "stream",
     "text": [
      "Sequence numbers are 1 2 3\n"
     ]
    }
   ],
   "source": [
    "print(\"Sequence numbers are {} {} {}\".format(1,2,3))"
   ]
  },
  {
   "cell_type": "code",
   "execution_count": 9,
   "metadata": {},
   "outputs": [
    {
     "name": "stdout",
     "output_type": "stream",
     "text": [
      "Reverse order of sequence 3 2 1\n"
     ]
    }
   ],
   "source": [
    "print(\"Reverse order of sequence {2} {1} {0}\".format(1,2,3))"
   ]
  },
  {
   "cell_type": "code",
   "execution_count": 10,
   "metadata": {},
   "outputs": [
    {
     "name": "stdout",
     "output_type": "stream",
     "text": [
      "I am using \"escape\" character\n"
     ]
    }
   ],
   "source": [
    "print(\"I am using \\\"escape\\\" character\")"
   ]
  },
  {
   "cell_type": "code",
   "execution_count": 11,
   "metadata": {},
   "outputs": [
    {
     "name": "stdout",
     "output_type": "stream",
     "text": [
      "I am will write in new line a number \n",
      " Number = 10\n"
     ]
    }
   ],
   "source": [
    "print(\"I am will write in new line a number \\n Number = 10\")"
   ]
  },
  {
   "cell_type": "code",
   "execution_count": 12,
   "metadata": {},
   "outputs": [
    {
     "data": {
      "text/plain": [
       "'  SAGAR   '"
      ]
     },
     "execution_count": 12,
     "metadata": {},
     "output_type": "execute_result"
    }
   ],
   "source": [
    "text = \"SAGAR\"\n",
    "text.center(10)"
   ]
  },
  {
   "cell_type": "code",
   "execution_count": 13,
   "metadata": {},
   "outputs": [
    {
     "data": {
      "text/plain": [
       "2"
      ]
     },
     "execution_count": 13,
     "metadata": {},
     "output_type": "execute_result"
    }
   ],
   "source": [
    "text.count('A')"
   ]
  },
  {
   "cell_type": "code",
   "execution_count": 14,
   "metadata": {},
   "outputs": [
    {
     "data": {
      "text/plain": [
       "b'SAGAR'"
      ]
     },
     "execution_count": 14,
     "metadata": {},
     "output_type": "execute_result"
    }
   ],
   "source": [
    "text.encode()"
   ]
  },
  {
   "cell_type": "code",
   "execution_count": 15,
   "metadata": {},
   "outputs": [
    {
     "data": {
      "text/plain": [
       "(4, 4, True, False, False)"
      ]
     },
     "execution_count": 15,
     "metadata": {},
     "output_type": "execute_result"
    }
   ],
   "source": [
    "text.find('R'), text.index('R'), text.isalpha(), text.isdigit(), text.isnumeric()"
   ]
  },
  {
   "cell_type": "code",
   "execution_count": 16,
   "metadata": {},
   "outputs": [
    {
     "name": "stdout",
     "output_type": "stream",
     "text": [
      "mail@gmail.com\n"
     ]
    }
   ],
   "source": [
    "x = \"@\".join((\"mail\",\"gmail.com\"))\n",
    "print(x)"
   ]
  },
  {
   "cell_type": "code",
   "execution_count": 17,
   "metadata": {},
   "outputs": [
    {
     "name": "stdout",
     "output_type": "stream",
     "text": [
      "True\n",
      "False\n",
      "False\n",
      "True\n",
      "False\n",
      "True\n",
      "False\n"
     ]
    },
    {
     "data": {
      "text/plain": [
       "(False, False, False)"
      ]
     },
     "execution_count": 17,
     "metadata": {},
     "output_type": "execute_result"
    }
   ],
   "source": [
    "# Python Booleans\n",
    "print(10 > 9)\n",
    "print(10 == 9)\n",
    "print(10 < 9)\n",
    "print(bool(\"Hello\"))\n",
    "print(bool(\"\"))\n",
    "print(bool(15))\n",
    "print(bool(0))\n",
    "bool([]),bool(()),bool({})"
   ]
  },
  {
   "cell_type": "code",
   "execution_count": 18,
   "metadata": {},
   "outputs": [
    {
     "data": {
      "text/plain": [
       "(True, False)"
      ]
     },
     "execution_count": 18,
     "metadata": {},
     "output_type": "execute_result"
    }
   ],
   "source": [
    "isinstance(20,int), isinstance(\"Text\",int)"
   ]
  }
 ],
 "metadata": {
  "kernelspec": {
   "display_name": "Python 3",
   "language": "python",
   "name": "python3"
  },
  "language_info": {
   "codemirror_mode": {
    "name": "ipython",
    "version": 3
   },
   "file_extension": ".py",
   "mimetype": "text/x-python",
   "name": "python",
   "nbconvert_exporter": "python",
   "pygments_lexer": "ipython3",
   "version": "3.8.5"
  }
 },
 "nbformat": 4,
 "nbformat_minor": 4
}
