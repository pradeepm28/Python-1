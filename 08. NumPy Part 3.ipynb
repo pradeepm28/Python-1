{
 "cells": [
  {
   "cell_type": "markdown",
   "metadata": {},
   "source": [
    "# NumPy ufuncs"
   ]
  },
  {
   "cell_type": "code",
   "execution_count": 1,
   "metadata": {},
   "outputs": [
    {
     "name": "stdout",
     "output_type": "stream",
     "text": [
      "[6 8 10 12]\n",
      "<class 'numpy.ufunc'>\n"
     ]
    }
   ],
   "source": [
    "# ufuncs stands for \"Universal Functions\" and they are NumPy functions that operates on the ndarray object.\n",
    "# ufuncs are used to implement vectorization in NumPy which is way faster than iterating over elements.\n",
    "# Vectorization - Converting iterative statements into a vector based operation. It is faster as modern CPUs \n",
    "#                 are optimized for such operations.\n",
    "# Create ufuncs -\n",
    "#     To create you own ufunc, you have to define a function, like you do with normal functions in Python, \n",
    "#     then you add it to your NumPy ufunc library with the frompyfunc() method.\n",
    "#     The frompyfunc() method takes the following arguments:\n",
    "#         1. function - the name of the function.\n",
    "#         2. inputs - the number of input arguments (arrays).\n",
    "#         3. outputs - the number of output arrays\n",
    "import numpy as np\n",
    "def add_fun(x,y):\n",
    "    return x + y\n",
    "add_fun = np.frompyfunc(add_fun,2,1)\n",
    "print(add_fun([1,2,3,4],[5,6,7,8]))\n",
    "print(type(np.add))"
   ]
  },
  {
   "cell_type": "code",
   "execution_count": 2,
   "metadata": {},
   "outputs": [
    {
     "name": "stdout",
     "output_type": "stream",
     "text": [
      "[ 7  9 11 13  6]\n",
      "[ 5  5  5  5 -4]\n",
      "[ 6 14 24 36  5]\n",
      "[6.         3.5        2.66666667 2.25       0.2       ]\n",
      "[     1    128   6561 262144      5]\n",
      "[1 2 3 4 0]\n",
      "[1 2 3 4 0]\n",
      "(array([0, 0, 0, 0, 5], dtype=int32), array([1, 2, 3, 4, 0], dtype=int32))\n",
      "[1 2 3 4 5]\n"
     ]
    }
   ],
   "source": [
    "array_1 = np.array([1,2,3,4,5])\n",
    "array_2 = np.array([6,7,8,9,1])\n",
    "print(np.add(array_1,array_2))\n",
    "print(np.subtract(array_2,array_1))\n",
    "print(np.multiply(array_1,array_2))\n",
    "print(np.divide(array_2,array_1))\n",
    "print(np.power(array_1,array_2))\n",
    "print(np.mod(array_1,array_2))\n",
    "print(np.remainder(array_1,array_2))\n",
    "print(np.divmod(array_1,array_2)) # Quotient and Mod\n",
    "print(np.absolute(array_1))"
   ]
  },
  {
   "cell_type": "code",
   "execution_count": 3,
   "metadata": {},
   "outputs": [
    {
     "name": "stdout",
     "output_type": "stream",
     "text": [
      "[1. 2. 3. 4.]\n",
      "[1. 2. 3. 4.]\n",
      "[1.5 2.1 3.6 5. ]\n",
      "[1. 2. 3. 4.]\n",
      "[2. 3. 4. 5.]\n"
     ]
    }
   ],
   "source": [
    "# Rounding\n",
    "array_3 = np.array([1.456,2.12,3.56,4.99])\n",
    "print(np.trunc(array_3))\n",
    "print(np.fix(array_3))\n",
    "print(np.around(array_3,1))\n",
    "print(np.floor(array_3))\n",
    "print(np.ceil(array_3))"
   ]
  },
  {
   "cell_type": "code",
   "execution_count": 4,
   "metadata": {},
   "outputs": [
    {
     "name": "stdout",
     "output_type": "stream",
     "text": [
      "[0.        1.        1.5849625 2.       ]\n",
      "[0.         0.30103    0.47712125 0.60205999]\n",
      "[0.         0.69314718 1.09861229 1.38629436]\n"
     ]
    }
   ],
   "source": [
    "# Logs\n",
    "array_4 = np.array([1,2,3,4])\n",
    "print(np.log2(array_4))\n",
    "print(np.log10(array_4))\n",
    "print(np.log(array_4))   # Natural log (base e)"
   ]
  },
  {
   "cell_type": "code",
   "execution_count": 5,
   "metadata": {},
   "outputs": [
    {
     "name": "stdout",
     "output_type": "stream",
     "text": [
      "36\n",
      "[ 6  8 10 12]\n",
      "[10 26]\n",
      "[ 1  3  6 10]\n"
     ]
    }
   ],
   "source": [
    "# Summations\n",
    "# Addition is done between two arguments whereas summation happens over n elements.\n",
    "array_5 = np.array([1,2,3,4])\n",
    "array_6 = np.array([5,6,7,8])\n",
    "print(np.sum([array_5,array_6]))\n",
    "print(np.add(array_5,array_6))\n",
    "print(np.sum([array_5,array_6],axis=1))\n",
    "print(np.cumsum(array_5))"
   ]
  },
  {
   "cell_type": "code",
   "execution_count": 6,
   "metadata": {},
   "outputs": [
    {
     "name": "stdout",
     "output_type": "stream",
     "text": [
      "[1 2 3 4] [5 6 7 8]\n",
      "24\n",
      "40320\n",
      "[  24 1680]\n",
      "[ 1  2  6 24]\n"
     ]
    }
   ],
   "source": [
    "# Product - Product of the elements in an array.\n",
    "array_7 = np.arange(1,5)\n",
    "array_8 = np.arange(5,9)\n",
    "print(array_7,array_8)\n",
    "print(np.prod(array_7))\n",
    "print(np.prod([array_7, array_8]))\n",
    "print(np.prod([array_7, array_8],axis=1))\n",
    "print(np.cumprod(array_7))"
   ]
  },
  {
   "cell_type": "code",
   "execution_count": 7,
   "metadata": {},
   "outputs": [
    {
     "name": "stdout",
     "output_type": "stream",
     "text": [
      "[-5 10  5]\n",
      "[15 -5]\n"
     ]
    }
   ],
   "source": [
    "# Difference - A discrete difference means subtracting two successive elements.\n",
    "array_9 = np.array([10,5,15,20])\n",
    "print(np.diff(array_9))\n",
    "print(np.diff(array_9,n=2)) # We can perform this operation repeatedly by giving parameter n"
   ]
  },
  {
   "cell_type": "code",
   "execution_count": 8,
   "metadata": {},
   "outputs": [
    {
     "name": "stdout",
     "output_type": "stream",
     "text": [
      "12\n",
      "12\n"
     ]
    }
   ],
   "source": [
    "# LCM (Lowest Common Multiple)\n",
    "num_1 = 4\n",
    "num_2 = 6\n",
    "print(np.lcm(num_1,num_2))\n",
    "#Returns: 12 because that is the lowest common multiple of both numbers (4*3=12 and 6*2=12).\n",
    "\n",
    "array_10 = np.arange(1,5)\n",
    "print(np.lcm.reduce(array_10))"
   ]
  },
  {
   "cell_type": "code",
   "execution_count": 9,
   "metadata": {},
   "outputs": [
    {
     "name": "stdout",
     "output_type": "stream",
     "text": [
      "2\n",
      "1\n"
     ]
    }
   ],
   "source": [
    "# GCD (Greatest Common Denominator)\n",
    "num_1 = 4\n",
    "num_2 = 6\n",
    "print(np.gcd(num_1,num_2))\n",
    "\n",
    "print(np.gcd.reduce(array_10))\n",
    "# The reduce() method will use the ufunc, in this case the gcd() function, on each element, \n",
    "# and reduce the array by one dimension."
   ]
  },
  {
   "cell_type": "code",
   "execution_count": 10,
   "metadata": {},
   "outputs": [
    {
     "name": "stdout",
     "output_type": "stream",
     "text": [
      "0.8509035245341184\n",
      "1.6197751905438615\n",
      "0.5253219888177297\n",
      "1.5707963267948966\n",
      "90.0\n",
      "1.5707963267948966\n",
      "0.7853981633974483\n",
      "0.0\n",
      "5.0\n",
      "2.3012989023072947\n",
      "0.9171523356672744\n",
      "2.5091784786580567\n",
      "0.881373587019543\n",
      "0.5493061443340549\n",
      "0.0\n"
     ]
    }
   ],
   "source": [
    "# Trigonometric - take values in radians and produce the corresponding sin, cos and tan values.\n",
    "\n",
    "print(np.sin(45))\n",
    "print(np.tan(45))\n",
    "print(np.cos(45))\n",
    "\n",
    "# Degree to radians\n",
    "print(np.deg2rad(90))\n",
    "print(np.rad2deg(np.pi/2))\n",
    "\n",
    "# Finding Angles - Produce radian values\n",
    "print(np.arcsin(1.0))\n",
    "print(np.arctan(1.0))\n",
    "print(np.arccos(1.0))\n",
    "\n",
    "# Hypotenues\n",
    "base = 3 # Base\n",
    "perp = 4 # Perpendicular\n",
    "print(np.hypot(base,perp))\n",
    "\n",
    "# Hyperbolic\n",
    "print(np.sinh(np.pi/2))\n",
    "print(np.tanh(np.pi/2))\n",
    "print(np.cosh(np.pi/2))\n",
    "\n",
    "# Hyperbolic - Finding Angle\n",
    "print(np.arcsinh(1.0))\n",
    "print(np.arctanh(0.5))\n",
    "print(np.arccosh(1.0))"
   ]
  },
  {
   "cell_type": "code",
   "execution_count": 11,
   "metadata": {},
   "outputs": [
    {
     "name": "stdout",
     "output_type": "stream",
     "text": [
      "[1 2 3 4 5]\n"
     ]
    }
   ],
   "source": [
    "# Set Operations - collection of unique elements.\n",
    "array_11 = np.array([1,1,2,3,4,3,3,3,3,4,5,5,5,5,1,1,1,])\n",
    "print(np.unique(array_11))"
   ]
  },
  {
   "cell_type": "code",
   "execution_count": 12,
   "metadata": {},
   "outputs": [
    {
     "name": "stdout",
     "output_type": "stream",
     "text": [
      "[1 2 3 4 5 6 7 8]\n",
      "[4 5]\n",
      "[1 2 3]\n",
      "[1 2 3 6 7 8]\n"
     ]
    }
   ],
   "source": [
    "array_12 = np.array([1,2,3,4,5])\n",
    "array_13 = np.array([4,5,6,7,8])\n",
    "print(np.union1d(array_12,array_13))\n",
    "print(np.intersect1d(array_12,array_13,assume_unique=True))\n",
    "print(np.setdiff1d(array_12,array_13,assume_unique=True))\n",
    "print(np.setxor1d(array_12,array_13,assume_unique=True)) #Symmetric Difference"
   ]
  }
 ],
 "metadata": {
  "kernelspec": {
   "display_name": "Python 3",
   "language": "python",
   "name": "python3"
  },
  "language_info": {
   "codemirror_mode": {
    "name": "ipython",
    "version": 3
   },
   "file_extension": ".py",
   "mimetype": "text/x-python",
   "name": "python",
   "nbconvert_exporter": "python",
   "pygments_lexer": "ipython3",
   "version": "3.8.5"
  }
 },
 "nbformat": 4,
 "nbformat_minor": 4
}
